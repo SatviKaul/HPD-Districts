{
 "cells": [
  {
   "cell_type": "markdown",
   "metadata": {},
   "source": [
    "# Importing Libraries"
   ]
  },
  {
   "cell_type": "code",
   "execution_count": null,
   "metadata": {},
   "outputs": [],
   "source": [
    "library(tidyverse)\n",
    "library(clValid)\n",
    "library(factoextra)\n"
   ]
  },
  {
   "cell_type": "markdown",
   "metadata": {},
   "source": [
    "# Global Functions"
   ]
  },
  {
   "cell_type": "code",
   "execution_count": null,
   "metadata": {
    "scrolled": true
   },
   "outputs": [],
   "source": [
    "Mode <- function(x) {\n",
    "  ux <- unique(x)\n",
    "  ux[which.max(tabulate(match(x, ux)))]\n",
    "}"
   ]
  },
  {
   "cell_type": "markdown",
   "metadata": {},
   "source": [
    "# Loadind Data"
   ]
  },
  {
   "cell_type": "code",
   "execution_count": null,
   "metadata": {
    "scrolled": true
   },
   "outputs": [],
   "source": [
    "soce <- read.csv(\"Book1.csv\")"
   ]
  },
  {
   "cell_type": "code",
   "execution_count": null,
   "metadata": {
    "scrolled": true
   },
   "outputs": [],
   "source": [
    "head(soce)"
   ]
  },
  {
   "cell_type": "markdown",
   "metadata": {},
   "source": [
    "# Exploratory Data Analysis"
   ]
  },
  {
   "cell_type": "code",
   "execution_count": null,
   "metadata": {},
   "outputs": [],
   "source": [
    "soce_1 <- select(soce, -(\"District\"))"
   ]
  },
  {
   "cell_type": "code",
   "execution_count": null,
   "metadata": {},
   "outputs": [],
   "source": [
    "soce_1agg <- aggregate(. ~ State, data = soce_1 , FUN = mean)"
   ]
  },
  {
   "cell_type": "code",
   "execution_count": null,
   "metadata": {},
   "outputs": [],
   "source": [
    "head(soce_1agg)"
   ]
  },
  {
   "cell_type": "code",
   "execution_count": null,
   "metadata": {},
   "outputs": [],
   "source": [
    "pl <- ggplot(soce_1agg, aes(x = State, y =  IMR)) + geom_bar(stat = \"identity\",aes(fill = factor(State))) + theme(axis.text.x = element_text(angle = 90)) + geom_hline(yintercept = 34, color = \"Black\", size = 1)\n",
    "pl"
   ]
  },
  {
   "cell_type": "markdown",
   "metadata": {},
   "source": [
    "### 34 is the Mean Infant Mortality Rate in India for the year 2016, highlighted by the horizontal line in the plot."
   ]
  },
  {
   "cell_type": "code",
   "execution_count": null,
   "metadata": {},
   "outputs": [],
   "source": [
    "pl1 <- ggplot(soce_1agg, aes(x = State, y =  DR)) + geom_bar(stat = \"identity\",aes(fill = factor(State))) + theme(axis.text.x = element_text(angle = 90)) + geom_hline(yintercept = 54, color = \"Black\", size = 1)\n",
    "pl1"
   ]
  },
  {
   "cell_type": "markdown",
   "metadata": {},
   "source": [
    "### 51 is the Mean Dependency Ratio in India for the year 2018, highlighted by the horizontal line in the plot."
   ]
  },
  {
   "cell_type": "code",
   "execution_count": null,
   "metadata": {},
   "outputs": [],
   "source": [
    "pl2 <- ggplot(soce_1agg, aes(x = State, y =  U5MR)) + geom_bar(stat = \"identity\",aes(fill = factor(State))) + theme(axis.text.x = element_text(angle = 90)) + geom_hline(yintercept = 43, color = \"Black\", size = 1)\n",
    "pl2"
   ]
  },
  {
   "cell_type": "markdown",
   "metadata": {},
   "source": [
    "### 43 is the Mean Under Five Mortality Rate in India for the year 2015, highlighted by the horizontal line in the plot."
   ]
  },
  {
   "cell_type": "code",
   "execution_count": null,
   "metadata": {},
   "outputs": [],
   "source": [
    "pl3 <- ggplot(soce_1agg, aes(x = State, y =  SRB)) + geom_bar(stat = \"identity\",aes(fill = factor(State))) + theme(axis.text.x = element_text(angle = 90)) + geom_hline(yintercept = 900, color = \"Black\", size = 1)\n",
    "pl3"
   ]
  },
  {
   "cell_type": "markdown",
   "metadata": {},
   "source": [
    "### 900 is the mean Sex Ratio at Birth in India for the years 2013-15, highlighted by the horizontal line in the plot."
   ]
  },
  {
   "cell_type": "code",
   "execution_count": null,
   "metadata": {},
   "outputs": [],
   "source": [
    "pl4 <- ggplot(soce_1agg, aes(x = State, y =  NNMR)) + geom_bar(stat = \"identity\",aes(fill = factor(State))) + theme(axis.text.x = element_text(angle = 90)) + geom_hline(yintercept = 28, color = \"Black\", size = 1)\n",
    "pl4"
   ]
  },
  {
   "cell_type": "markdown",
   "metadata": {},
   "source": [
    "### 28 is the Total Neonatal Mortality Rate in India for the year 2013, highlighted by the horizontal line in the plot."
   ]
  },
  {
   "cell_type": "code",
   "execution_count": null,
   "metadata": {},
   "outputs": [],
   "source": [
    "pl5 <- ggplot(soce_1agg, aes(x = State, y =  TFR)) + geom_bar(stat = \"identity\",aes(fill = factor(State))) + theme(axis.text.x = element_text(angle = 90)) + geom_hline(yintercept = 2.33, color = \"Black\", size = 1)\n",
    "pl5"
   ]
  },
  {
   "cell_type": "markdown",
   "metadata": {},
   "source": [
    "### 2.33 is the total fertility rate(per woman) in India for the year 2016, highlighted by the horizontal line in the plot."
   ]
  },
  {
   "cell_type": "code",
   "execution_count": null,
   "metadata": {},
   "outputs": [],
   "source": [
    "pl6 <- ggplot(soce_1agg, aes(x = State, y =  CL)) + geom_bar(stat = \"identity\",aes(fill = factor(State))) + theme(axis.text.x = element_text(angle = 90)) + geom_hline(yintercept = 2.3, color = \"Black\", size = 1)\n",
    "pl6"
   ]
  },
  {
   "cell_type": "markdown",
   "metadata": {},
   "source": [
    "### 2.3% is the average number of Children aged 5-14 years currently engaged in work, highlighted by the line in the plot."
   ]
  },
  {
   "cell_type": "markdown",
   "metadata": {},
   "source": [
    "# Data Preparation "
   ]
  },
  {
   "cell_type": "code",
   "execution_count": null,
   "metadata": {
    "scrolled": true
   },
   "outputs": [],
   "source": [
    "soce1 <- select(soce, -c(\"State\",\"District\"))"
   ]
  },
  {
   "cell_type": "code",
   "execution_count": null,
   "metadata": {
    "scrolled": true
   },
   "outputs": [],
   "source": [
    "head(soce1)"
   ]
  },
  {
   "cell_type": "markdown",
   "metadata": {},
   "source": [
    "# Standardised Table"
   ]
  },
  {
   "cell_type": "code",
   "execution_count": null,
   "metadata": {
    "scrolled": true
   },
   "outputs": [],
   "source": [
    "soce1_sd <- scale(soce1)"
   ]
  },
  {
   "cell_type": "code",
   "execution_count": null,
   "metadata": {
    "scrolled": true
   },
   "outputs": [],
   "source": [
    "head(soce1_sd)"
   ]
  },
  {
   "cell_type": "markdown",
   "metadata": {},
   "source": [
    "# Determining optimal number of clusters"
   ]
  },
  {
   "cell_type": "markdown",
   "metadata": {},
   "source": [
    "### Elbow Curve Method"
   ]
  },
  {
   "cell_type": "code",
   "execution_count": null,
   "metadata": {},
   "outputs": [],
   "source": [
    "fviz_nbclust(soce1, hcut, method = \"wss\")"
   ]
  },
  {
   "cell_type": "code",
   "execution_count": null,
   "metadata": {
    "scrolled": true
   },
   "outputs": [],
   "source": [
    "#r_sq <- rnorm(20)\n",
    "#for(number in 1:20){\n",
    "#    clus <- kmeans(soce1, centers = number, nstart = 50)\n",
    "#    r_sq[number] <- clus$betweenss/clus$totss\n",
    "#}\n",
    "#plot(r_sq, ylim = c(1,0))"
   ]
  },
  {
   "cell_type": "markdown",
   "metadata": {},
   "source": [
    "### Silhouette Method"
   ]
  },
  {
   "cell_type": "code",
   "execution_count": null,
   "metadata": {},
   "outputs": [],
   "source": [
    "fviz_nbclust(soce1, hcut, method = \"silhouette\")"
   ]
  },
  {
   "cell_type": "code",
   "execution_count": null,
   "metadata": {
    "scrolled": true
   },
   "outputs": [],
   "source": [
    "#soce_dist <- dist(soce1_sd)"
   ]
  },
  {
   "cell_type": "code",
   "execution_count": null,
   "metadata": {
    "scrolled": true
   },
   "outputs": [],
   "source": [
    "#avg_sil <- function(k){\n",
    " #  km.res <- kmeans(soce1_sd, centers = k, nstart = 25 )\n",
    "  #  ss <- silhouette(km.res$cluster, dist(soce1_sd))\n",
    "  #  mean(ss[, 3])\n",
    "#}"
   ]
  },
  {
   "cell_type": "code",
   "execution_count": null,
   "metadata": {},
   "outputs": [],
   "source": [
    "#k.values <- 2:15\n",
    "#avg_sil_values <- map_dbl(k.values, avg_sil)\n",
    "#plot(k.values, avg_sil_values, type = \"b\", pch = 19, frame = FALSE, xlab = \"Number of clusters K\", ylab = \"Average Silhouettes\")\n"
   ]
  },
  {
   "cell_type": "markdown",
   "metadata": {},
   "source": [
    "### Cluster Validation"
   ]
  },
  {
   "cell_type": "code",
   "execution_count": null,
   "metadata": {},
   "outputs": [],
   "source": [
    "intern <- clValid(soce1,2:10, maxitems = nrow(soce1), clMethods =  c(\"kmeans\"),validation=c(\"internal\",\"stability\"))\n",
    "summary(intern)"
   ]
  },
  {
   "cell_type": "code",
   "execution_count": null,
   "metadata": {},
   "outputs": [],
   "source": [
    "intern <- clValid(soce1,2:10, maxitems = nrow(soce1), clMethods =  c(\"hierarchical\"),validation=c(\"internal\",\"stability\"))\n",
    "summary(intern)"
   ]
  },
  {
   "cell_type": "markdown",
   "metadata": {},
   "source": [
    "#### Optimal number of clusters is 2, which will divide the data set into HIGH PRIORITY DISTRICTS AND LOW PRIORITY DISTRICTS"
   ]
  },
  {
   "cell_type": "markdown",
   "metadata": {},
   "source": [
    "#### Observing the elbow curve, we can furthermore analyse the given data set for 4, 5 and 6 clusters. "
   ]
  },
  {
   "cell_type": "markdown",
   "metadata": {},
   "source": [
    "# Applying K-Means Algorithm for centers = 2, 4, 5, 6"
   ]
  },
  {
   "cell_type": "code",
   "execution_count": null,
   "metadata": {
    "scrolled": true
   },
   "outputs": [],
   "source": [
    "set.seed(101)"
   ]
  },
  {
   "cell_type": "code",
   "execution_count": null,
   "metadata": {
    "scrolled": true
   },
   "outputs": [],
   "source": [
    "clus2 <- kmeans(soce1_sd, centers = 2, iter.max = 50, nstart = 20)"
   ]
  },
  {
   "cell_type": "code",
   "execution_count": null,
   "metadata": {
    "scrolled": true
   },
   "outputs": [],
   "source": [
    "clus2$size"
   ]
  },
  {
   "cell_type": "code",
   "execution_count": null,
   "metadata": {
    "scrolled": true
   },
   "outputs": [],
   "source": [
    "clus4 <- kmeans(soce1_sd, centers = 4, iter.max = 50, nstart = 50)"
   ]
  },
  {
   "cell_type": "code",
   "execution_count": null,
   "metadata": {
    "scrolled": true
   },
   "outputs": [],
   "source": [
    "clus4$size"
   ]
  },
  {
   "cell_type": "code",
   "execution_count": null,
   "metadata": {
    "scrolled": true
   },
   "outputs": [],
   "source": [
    "clus5 <- kmeans(soce1_sd, centers = 5, iter.max = 50, nstart = 50)"
   ]
  },
  {
   "cell_type": "code",
   "execution_count": null,
   "metadata": {
    "scrolled": true
   },
   "outputs": [],
   "source": [
    "clus5$size"
   ]
  },
  {
   "cell_type": "code",
   "execution_count": null,
   "metadata": {
    "scrolled": true
   },
   "outputs": [],
   "source": [
    "clus6 <- kmeans(soce1_sd, centers = 6, iter.max = 50, nstart = 50)"
   ]
  },
  {
   "cell_type": "code",
   "execution_count": null,
   "metadata": {
    "scrolled": true
   },
   "outputs": [],
   "source": [
    "clus6$size"
   ]
  },
  {
   "cell_type": "markdown",
   "metadata": {},
   "source": [
    "## Binding clusters obtained for various centers to original data set"
   ]
  },
  {
   "cell_type": "code",
   "execution_count": null,
   "metadata": {
    "scrolled": true
   },
   "outputs": [],
   "source": [
    "soce_2km <- cbind(soce, clus2$cluster)\n"
   ]
  },
  {
   "cell_type": "code",
   "execution_count": null,
   "metadata": {
    "scrolled": true
   },
   "outputs": [],
   "source": [
    "colnames(soce_2km)[14] <- \"ClusterID\""
   ]
  },
  {
   "cell_type": "code",
   "execution_count": null,
   "metadata": {},
   "outputs": [],
   "source": [
    "soce_2km"
   ]
  },
  {
   "cell_type": "code",
   "execution_count": null,
   "metadata": {
    "scrolled": true
   },
   "outputs": [],
   "source": [
    "write.csv(soce_2km, file = \"Soce2.csv\")"
   ]
  },
  {
   "cell_type": "code",
   "execution_count": null,
   "metadata": {
    "scrolled": true
   },
   "outputs": [],
   "source": [
    "soce_4km <- cbind(soce, clus4$cluster)"
   ]
  },
  {
   "cell_type": "code",
   "execution_count": null,
   "metadata": {
    "scrolled": true
   },
   "outputs": [],
   "source": [
    "colnames(soce_4km)[14] <- \"ClusterID\""
   ]
  },
  {
   "cell_type": "code",
   "execution_count": null,
   "metadata": {},
   "outputs": [],
   "source": [
    "write.csv(soce_4km, file = \"Soce4.csv\")"
   ]
  },
  {
   "cell_type": "code",
   "execution_count": null,
   "metadata": {
    "scrolled": true
   },
   "outputs": [],
   "source": [
    "soce_5km <- cbind(soce, clus5$cluster)"
   ]
  },
  {
   "cell_type": "code",
   "execution_count": null,
   "metadata": {
    "scrolled": true
   },
   "outputs": [],
   "source": [
    "colnames(soce_5km)[14] <- \"ClusterID\""
   ]
  },
  {
   "cell_type": "code",
   "execution_count": null,
   "metadata": {},
   "outputs": [],
   "source": [
    "write.csv(soce_5km, file = \"Soce5.csv\")"
   ]
  },
  {
   "cell_type": "code",
   "execution_count": null,
   "metadata": {
    "scrolled": true
   },
   "outputs": [],
   "source": [
    "soce_6km <- cbind(soce, clus6$cluster)"
   ]
  },
  {
   "cell_type": "code",
   "execution_count": null,
   "metadata": {
    "scrolled": true
   },
   "outputs": [],
   "source": [
    "colnames(soce_6km)[14] <- \"ClusterID\""
   ]
  },
  {
   "cell_type": "code",
   "execution_count": null,
   "metadata": {},
   "outputs": [],
   "source": [
    "write.csv(soce_6km, file = \"Soce6.csv\")"
   ]
  },
  {
   "cell_type": "code",
   "execution_count": null,
   "metadata": {
    "scrolled": true
   },
   "outputs": [],
   "source": [
    "head(soce_2km)\n",
    "head(soce_4km)\n",
    "head(soce_5km)\n",
    "head(soce_6km)"
   ]
  },
  {
   "cell_type": "markdown",
   "metadata": {},
   "source": [
    "# Creating Cluster Subsets"
   ]
  },
  {
   "cell_type": "markdown",
   "metadata": {},
   "source": [
    "### Centers = 2"
   ]
  },
  {
   "cell_type": "code",
   "execution_count": null,
   "metadata": {
    "scrolled": true
   },
   "outputs": [],
   "source": [
    "Clus1_km <- subset(soce_2km, ClusterID == 1)\n",
    "head(Clus1_km)"
   ]
  },
  {
   "cell_type": "code",
   "execution_count": null,
   "metadata": {
    "scrolled": true
   },
   "outputs": [],
   "source": [
    "Clus2_km <- subset(soce_2km, ClusterID == 2)\n",
    "head(Clus2_km)"
   ]
  },
  {
   "cell_type": "markdown",
   "metadata": {},
   "source": [
    "### Centers = 4"
   ]
  },
  {
   "cell_type": "code",
   "execution_count": null,
   "metadata": {
    "scrolled": true
   },
   "outputs": [],
   "source": [
    "Clus1_km4 <- subset(soce_4km, ClusterID == 1)"
   ]
  },
  {
   "cell_type": "code",
   "execution_count": null,
   "metadata": {
    "scrolled": true
   },
   "outputs": [],
   "source": [
    "Clus2_km4 <- subset(soce_4km, ClusterID == 2)"
   ]
  },
  {
   "cell_type": "code",
   "execution_count": null,
   "metadata": {
    "scrolled": true
   },
   "outputs": [],
   "source": [
    "Clus3_km4 <- subset(soce_4km, ClusterID == 3)"
   ]
  },
  {
   "cell_type": "code",
   "execution_count": null,
   "metadata": {
    "scrolled": true
   },
   "outputs": [],
   "source": [
    "Clus4_km4 <- subset(soce_4km, ClusterID == 4)"
   ]
  },
  {
   "cell_type": "markdown",
   "metadata": {},
   "source": [
    "### Centers = 5"
   ]
  },
  {
   "cell_type": "code",
   "execution_count": null,
   "metadata": {
    "scrolled": true
   },
   "outputs": [],
   "source": [
    "Clus1_km5 <- subset(soce_5km, ClusterID == 1)"
   ]
  },
  {
   "cell_type": "code",
   "execution_count": null,
   "metadata": {
    "scrolled": true
   },
   "outputs": [],
   "source": [
    "Clus2_km5 <- subset(soce_5km, ClusterID == 2)"
   ]
  },
  {
   "cell_type": "code",
   "execution_count": null,
   "metadata": {
    "scrolled": true
   },
   "outputs": [],
   "source": [
    "Clus3_km5 <- subset(soce_5km, ClusterID == 3)"
   ]
  },
  {
   "cell_type": "code",
   "execution_count": null,
   "metadata": {
    "scrolled": true
   },
   "outputs": [],
   "source": [
    "Clus4_km5 <- subset(soce_5km, ClusterID == 4)"
   ]
  },
  {
   "cell_type": "code",
   "execution_count": null,
   "metadata": {
    "scrolled": true
   },
   "outputs": [],
   "source": [
    "Clus5_km5 <- subset(soce_5km, ClusterID == 5)"
   ]
  },
  {
   "cell_type": "markdown",
   "metadata": {},
   "source": [
    "### Centers = 6"
   ]
  },
  {
   "cell_type": "code",
   "execution_count": null,
   "metadata": {
    "scrolled": true
   },
   "outputs": [],
   "source": [
    "Clus1_km6 <- subset(soce_6km, ClusterID == 1)"
   ]
  },
  {
   "cell_type": "code",
   "execution_count": null,
   "metadata": {
    "scrolled": true
   },
   "outputs": [],
   "source": [
    "Clus2_km6 <- subset(soce_6km, ClusterID == 2)"
   ]
  },
  {
   "cell_type": "code",
   "execution_count": null,
   "metadata": {
    "scrolled": true
   },
   "outputs": [],
   "source": [
    "Clus3_km6 <- subset(soce_6km, ClusterID == 3)"
   ]
  },
  {
   "cell_type": "code",
   "execution_count": null,
   "metadata": {
    "scrolled": true
   },
   "outputs": [],
   "source": [
    "Clus4_km6 <- subset(soce_6km, ClusterID == 4)"
   ]
  },
  {
   "cell_type": "code",
   "execution_count": null,
   "metadata": {
    "scrolled": true
   },
   "outputs": [],
   "source": [
    "Clus5_km6 <- subset(soce_6km, ClusterID == 5)"
   ]
  },
  {
   "cell_type": "code",
   "execution_count": null,
   "metadata": {
    "scrolled": true
   },
   "outputs": [],
   "source": [
    "Clus6_km6 <- subset(soce_6km, ClusterID == 6)"
   ]
  },
  {
   "cell_type": "markdown",
   "metadata": {},
   "source": [
    "# Analysing Clusters (Centers = 2)"
   ]
  },
  {
   "cell_type": "markdown",
   "metadata": {},
   "source": [
    "### Calculating Frequencies of various states"
   ]
  },
  {
   "cell_type": "code",
   "execution_count": null,
   "metadata": {
    "scrolled": true
   },
   "outputs": [],
   "source": [
    "l1 <- list(table(Clus1_km$State),table(Clus2_km$State))"
   ]
  },
  {
   "cell_type": "code",
   "execution_count": null,
   "metadata": {
    "scrolled": true
   },
   "outputs": [],
   "source": [
    "Assam <- as.vector(sapply(l1, function(x) x[1]))\n",
    "Bihar <- as.vector(sapply(l1, function(x) x[2]))\n",
    "Chhattisgarh <- as.vector(sapply(l1, function(x) x[3]))\n",
    "Jharkhand <- as.vector(sapply(l1, function(x) x[4]))\n",
    "Madhya_Pradesh <- as.vector(sapply(l1, function(x) x[5]))\n",
    "Odisha <- as.vector(sapply(l1, function(x) x[6]))\n",
    "Rajasthan <- as.vector(sapply(l1, function(x) x[7]))\n",
    "Uttar_Pradesh <- as.vector(sapply(l1, function(x) x[8]))\n",
    "Uttarakhand <- as.vector(sapply(l1, function(x) x[9]))"
   ]
  },
  {
   "cell_type": "markdown",
   "metadata": {},
   "source": [
    "## General Summary"
   ]
  },
  {
   "cell_type": "code",
   "execution_count": null,
   "metadata": {
    "scrolled": true
   },
   "outputs": [],
   "source": [
    "km1 <- group_by(soce_2km, ClusterID)"
   ]
  },
  {
   "cell_type": "code",
   "execution_count": null,
   "metadata": {
    "scrolled": true
   },
   "outputs": [],
   "source": [
    "tab <- summarise(km1, Mean_DR = mean(DR), Mean_NNMR = mean(NNMR), Mean_CSP = mean(CSP), Mean_CL = mean(CL), Mean_CFI = mean(CFI), Mean_IMR = mean(IMR), Mean_SRB = mean(SRB), Mean_U5MR = mean(U5MR), Mean_LR = mean(LR), Mean_TFR = mean(TFR), Mean_SD = mean(SD))"
   ]
  },
  {
   "cell_type": "code",
   "execution_count": null,
   "metadata": {
    "scrolled": true
   },
   "outputs": [],
   "source": [
    "tab <- cbind(tab, Assam, Bihar, Chhattisgarh, Jharkhand, Madhya_Pradesh, Odisha, Rajasthan, Uttar_Pradesh, Uttarakhand)"
   ]
  },
  {
   "cell_type": "code",
   "execution_count": null,
   "metadata": {
    "scrolled": true
   },
   "outputs": [],
   "source": [
    "tab"
   ]
  },
  {
   "cell_type": "markdown",
   "metadata": {},
   "source": [
    "## Parameter Wise Summary"
   ]
  },
  {
   "cell_type": "markdown",
   "metadata": {},
   "source": [
    "### Dependency Ratio"
   ]
  },
  {
   "cell_type": "code",
   "execution_count": null,
   "metadata": {
    "scrolled": true
   },
   "outputs": [],
   "source": [
    "km1 <- group_by(soce_2km, ClusterID)\n",
    "tab1 <- summarise(km1, Mean_DR = mean(DR), Mode_DR = Mode(DR), Median_DR = median(DR), Range_DR = max(DR)-min(DR))"
   ]
  },
  {
   "cell_type": "code",
   "execution_count": null,
   "metadata": {
    "scrolled": true
   },
   "outputs": [],
   "source": [
    "tab1 <- cbind(tab1, Assam, Bihar, Chhattisgarh, Jharkhand, Madhya_Pradesh, Odisha, Rajasthan, Uttar_Pradesh, Uttarakhand)"
   ]
  },
  {
   "cell_type": "code",
   "execution_count": null,
   "metadata": {},
   "outputs": [],
   "source": [
    "tab1"
   ]
  },
  {
   "cell_type": "markdown",
   "metadata": {},
   "source": [
    "### Literacy Rate"
   ]
  },
  {
   "cell_type": "code",
   "execution_count": null,
   "metadata": {
    "scrolled": true
   },
   "outputs": [],
   "source": [
    "km2 <- group_by(soce_2km, ClusterID)\n",
    "tab2 <- summarise(km2, Mean_LR = mean(LR), Mode_LR = Mode(LR), Median_LR = median(LR), Range_LR = max(LR)-min(LR))"
   ]
  },
  {
   "cell_type": "code",
   "execution_count": null,
   "metadata": {
    "scrolled": true
   },
   "outputs": [],
   "source": [
    "tab2 <- cbind(tab2, Assam, Bihar, Chhattisgarh, Jharkhand, Madhya_Pradesh, Odisha, Rajasthan, Uttar_Pradesh, Uttarakhand)"
   ]
  },
  {
   "cell_type": "code",
   "execution_count": null,
   "metadata": {
    "scrolled": true
   },
   "outputs": [],
   "source": [
    "tab2"
   ]
  },
  {
   "cell_type": "markdown",
   "metadata": {},
   "source": [
    "### Children Currently in School (%)"
   ]
  },
  {
   "cell_type": "code",
   "execution_count": null,
   "metadata": {
    "scrolled": true
   },
   "outputs": [],
   "source": [
    "km3 <- group_by(soce_2km, ClusterID)\n",
    "tab3 <- summarise(km3, Mean_CSP = mean(CSP), Mode_CSP = Mode(CSP), Median_CSP = median(CSP), Range_CSP = max(CSP)-min(CSP))"
   ]
  },
  {
   "cell_type": "code",
   "execution_count": null,
   "metadata": {
    "scrolled": true
   },
   "outputs": [],
   "source": [
    "tab3 <- cbind(tab3, Assam, Bihar, Chhattisgarh, Jharkhand, Madhya_Pradesh, Odisha, Rajasthan, Uttar_Pradesh, Uttarakhand)"
   ]
  },
  {
   "cell_type": "code",
   "execution_count": null,
   "metadata": {
    "scrolled": true
   },
   "outputs": [],
   "source": [
    "tab3"
   ]
  },
  {
   "cell_type": "markdown",
   "metadata": {},
   "source": [
    "### Children below working age currently enrolled in work (%)"
   ]
  },
  {
   "cell_type": "code",
   "execution_count": null,
   "metadata": {
    "scrolled": true
   },
   "outputs": [],
   "source": [
    "km4 <- group_by(soce_2km, ClusterID)\n",
    "tab4 <- summarise(km4, Mean_CL = mean(CL), Mode_CL = Mode(CL), Median_CL = median(CL), Range_CL = max(CL)-min(CL))"
   ]
  },
  {
   "cell_type": "code",
   "execution_count": null,
   "metadata": {
    "scrolled": true
   },
   "outputs": [],
   "source": [
    "tab4 <- cbind(tab4, Assam, Bihar, Chhattisgarh, Jharkhand, Madhya_Pradesh, Odisha, Rajasthan, Uttar_Pradesh, Uttarakhand)"
   ]
  },
  {
   "cell_type": "code",
   "execution_count": null,
   "metadata": {
    "scrolled": true
   },
   "outputs": [],
   "source": [
    "tab4"
   ]
  },
  {
   "cell_type": "markdown",
   "metadata": {},
   "source": [
    "### Neonatal Mortality Rate"
   ]
  },
  {
   "cell_type": "code",
   "execution_count": null,
   "metadata": {
    "scrolled": true
   },
   "outputs": [],
   "source": [
    "km5 <- group_by(soce_2km, ClusterID)\n",
    "tab5 <- summarise(km5, Mean_NNMR = mean(NNMR), Mode_NNMR = Mode(NNMR), Median_NNMR = median(NNMR), Range_NNMR = max(NNMR)-min(NNMR))"
   ]
  },
  {
   "cell_type": "code",
   "execution_count": null,
   "metadata": {
    "scrolled": true
   },
   "outputs": [],
   "source": [
    "tab5 <- cbind(tab5, Assam, Bihar, Chhattisgarh, Jharkhand, Madhya_Pradesh, Odisha, Rajasthan, Uttar_Pradesh, Uttarakhand)"
   ]
  },
  {
   "cell_type": "code",
   "execution_count": null,
   "metadata": {
    "scrolled": true
   },
   "outputs": [],
   "source": [
    "tab5"
   ]
  },
  {
   "cell_type": "markdown",
   "metadata": {},
   "source": [
    "### Infant Mortality Rate"
   ]
  },
  {
   "cell_type": "code",
   "execution_count": null,
   "metadata": {
    "scrolled": true
   },
   "outputs": [],
   "source": [
    "km6 <- group_by(soce_2km, ClusterID)\n",
    "tab6 <- summarise(km6, Mean_IMR = mean(IMR), Mode_IMR = Mode(IMR), Median_IMR = median(IMR), Range_IMR = max(IMR)-min(IMR))"
   ]
  },
  {
   "cell_type": "code",
   "execution_count": null,
   "metadata": {
    "scrolled": true
   },
   "outputs": [],
   "source": [
    "tab6 <- cbind(tab6, Assam, Bihar, Chhattisgarh, Jharkhand, Madhya_Pradesh, Odisha, Rajasthan, Uttar_Pradesh, Uttarakhand)"
   ]
  },
  {
   "cell_type": "code",
   "execution_count": null,
   "metadata": {
    "scrolled": true
   },
   "outputs": [],
   "source": [
    "tab6"
   ]
  },
  {
   "cell_type": "markdown",
   "metadata": {},
   "source": [
    "### Sex Ratio at Birth"
   ]
  },
  {
   "cell_type": "code",
   "execution_count": null,
   "metadata": {
    "scrolled": true
   },
   "outputs": [],
   "source": [
    "km7 <- group_by(soce_2km, ClusterID)\n",
    "tab7 <- summarise(km7, Mean_SRB = mean(SRB), Mode_SRB = Mode(SRB), Median_SRB = median(SRB), Range_SRB = max(SRB)-min(SRB))"
   ]
  },
  {
   "cell_type": "code",
   "execution_count": null,
   "metadata": {
    "scrolled": true
   },
   "outputs": [],
   "source": [
    "tab7 <- cbind(tab7, Assam, Bihar, Chhattisgarh, Jharkhand, Madhya_Pradesh, Odisha, Rajasthan, Uttar_Pradesh, Uttarakhand)"
   ]
  },
  {
   "cell_type": "code",
   "execution_count": null,
   "metadata": {
    "scrolled": true
   },
   "outputs": [],
   "source": [
    "tab7"
   ]
  },
  {
   "cell_type": "markdown",
   "metadata": {},
   "source": [
    "### Under Five Mortality Rate"
   ]
  },
  {
   "cell_type": "code",
   "execution_count": null,
   "metadata": {
    "scrolled": true
   },
   "outputs": [],
   "source": [
    "km8 <- group_by(soce_2km, ClusterID)\n",
    "tab8 <- summarise(km8, Mean_U5MR = mean(U5MR), Mode_U5MR = Mode(U5MR), Median_U5MR = median(U5MR), Range_U5MR = max(U5MR)-min(U5MR))"
   ]
  },
  {
   "cell_type": "code",
   "execution_count": null,
   "metadata": {
    "scrolled": true
   },
   "outputs": [],
   "source": [
    "tab8 <- cbind(tab8, Assam, Bihar, Chhattisgarh, Jharkhand, Madhya_Pradesh, Odisha, Rajasthan, Uttar_Pradesh, Uttarakhand)"
   ]
  },
  {
   "cell_type": "code",
   "execution_count": null,
   "metadata": {
    "scrolled": true
   },
   "outputs": [],
   "source": [
    "tab8"
   ]
  },
  {
   "cell_type": "markdown",
   "metadata": {},
   "source": [
    "### Total Fertility Rate"
   ]
  },
  {
   "cell_type": "code",
   "execution_count": null,
   "metadata": {},
   "outputs": [],
   "source": [
    "km9 <- group_by(soce_2km, ClusterID)\n",
    "tab9 <- summarise(km9, Mean_TFR = mean(TFR), Mode_TFR = Mode(TFR), Median_TFR = median(TFR), Range_TFR = max(TFR)-min(TFR))"
   ]
  },
  {
   "cell_type": "code",
   "execution_count": null,
   "metadata": {},
   "outputs": [],
   "source": [
    "tab9 <- cbind(tab9,Assam, Bihar, Chhattisgarh, Jharkhand, Madhya_Pradesh, Odisha, Rajasthan, Uttar_Pradesh, Uttarakhand)"
   ]
  },
  {
   "cell_type": "code",
   "execution_count": null,
   "metadata": {},
   "outputs": [],
   "source": [
    "tab9"
   ]
  },
  {
   "cell_type": "markdown",
   "metadata": {},
   "source": [
    "### Number of Safe Deliveries"
   ]
  },
  {
   "cell_type": "code",
   "execution_count": null,
   "metadata": {},
   "outputs": [],
   "source": [
    "km10 <- group_by(soce_2km, ClusterID)\n",
    "tab10 <- summarise(km10, Mean_SD = mean(SD), Mode_SD = Mode(SD), Median_SD = median(SD), Range_SD = max(SD)-min(SD))"
   ]
  },
  {
   "cell_type": "code",
   "execution_count": null,
   "metadata": {},
   "outputs": [],
   "source": [
    "tab10 <- cbind(tab10, Assam, Bihar, Chhattisgarh, Jharkhand, Madhya_Pradesh, Odisha, Rajasthan, Uttar_Pradesh, Uttarakhand)"
   ]
  },
  {
   "cell_type": "code",
   "execution_count": null,
   "metadata": {},
   "outputs": [],
   "source": [
    "tab10"
   ]
  },
  {
   "cell_type": "markdown",
   "metadata": {},
   "source": [
    "### Children Fully Immunised"
   ]
  },
  {
   "cell_type": "code",
   "execution_count": null,
   "metadata": {},
   "outputs": [],
   "source": [
    "km11 <- group_by(soce_2km, ClusterID)\n",
    "tab11 <- summarise(km11, Mean_CFI = mean(CFI), Median_CFI = median(CFI), Mode_CFI = Mode(CFI), Range_CFI = max(CFI)-min(CFI))"
   ]
  },
  {
   "cell_type": "code",
   "execution_count": null,
   "metadata": {},
   "outputs": [],
   "source": [
    "tab11 <- cbind(tab11, Assam, Bihar, Chhattisgarh, Jharkhand, Madhya_Pradesh, Odisha, Rajasthan, Uttar_Pradesh, Uttarakhand)"
   ]
  },
  {
   "cell_type": "code",
   "execution_count": null,
   "metadata": {},
   "outputs": [],
   "source": [
    "tab11"
   ]
  },
  {
   "cell_type": "markdown",
   "metadata": {},
   "source": [
    "# Comparing Cluster solutions with original High Priority Districts(HPD)"
   ]
  },
  {
   "cell_type": "markdown",
   "metadata": {},
   "source": [
    "### Loading High Priority Districts Data"
   ]
  },
  {
   "cell_type": "code",
   "execution_count": null,
   "metadata": {
    "scrolled": true
   },
   "outputs": [],
   "source": [
    "hpd <- read.csv(\"highprioritydistricts.csv\")"
   ]
  },
  {
   "cell_type": "code",
   "execution_count": null,
   "metadata": {},
   "outputs": [],
   "source": [
    "head(hpd,10)"
   ]
  },
  {
   "cell_type": "markdown",
   "metadata": {},
   "source": [
    "### Vectorising districts in HPD dataset"
   ]
  },
  {
   "cell_type": "code",
   "execution_count": null,
   "metadata": {},
   "outputs": [],
   "source": [
    "dist_hpd <- as.vector(hpd$District)\n",
    "length(dist_hpd)"
   ]
  },
  {
   "cell_type": "markdown",
   "metadata": {},
   "source": [
    "### Vectorising Districts obtained in Cluster 2"
   ]
  },
  {
   "cell_type": "code",
   "execution_count": null,
   "metadata": {
    "scrolled": true
   },
   "outputs": [],
   "source": [
    "dist_km <- as.vector(Clus2_km$District)"
   ]
  },
  {
   "cell_type": "code",
   "execution_count": null,
   "metadata": {},
   "outputs": [],
   "source": [
    "dist_km1 <- as.vector(Clus2_km4$District)"
   ]
  },
  {
   "cell_type": "code",
   "execution_count": null,
   "metadata": {},
   "outputs": [],
   "source": [
    "dist_km2 <- as.vector(Clus3_km4$District)"
   ]
  },
  {
   "cell_type": "markdown",
   "metadata": {},
   "source": [
    "### Matching Districts in HPD and Cluster 2"
   ]
  },
  {
   "cell_type": "code",
   "execution_count": null,
   "metadata": {},
   "outputs": [],
   "source": [
    "m <- match(dist_hpd,dist_km)\n",
    "m\n"
   ]
  },
  {
   "cell_type": "code",
   "execution_count": null,
   "metadata": {},
   "outputs": [],
   "source": [
    "length(m)"
   ]
  },
  {
   "cell_type": "markdown",
   "metadata": {},
   "source": [
    "### Checking Percentage of Matched Districts"
   ]
  },
  {
   "cell_type": "markdown",
   "metadata": {},
   "source": [
    "#### Number of unmatched districts : 18"
   ]
  },
  {
   "cell_type": "markdown",
   "metadata": {},
   "source": [
    "#### Total Number of districts : 89"
   ]
  },
  {
   "cell_type": "markdown",
   "metadata": {},
   "source": [
    "#### Percentage of matched districts"
   ]
  },
  {
   "cell_type": "code",
   "execution_count": null,
   "metadata": {
    "scrolled": true
   },
   "outputs": [],
   "source": [
    "(1-(16/89))*100"
   ]
  },
  {
   "cell_type": "markdown",
   "metadata": {},
   "source": [
    "#### Approx. 82 % of districts obtained in Cluster 1 matched with original HPD"
   ]
  },
  {
   "cell_type": "markdown",
   "metadata": {},
   "source": [
    "# Analysing Clusters (Centers = 4)"
   ]
  },
  {
   "cell_type": "markdown",
   "metadata": {},
   "source": [
    "### Calculating Frequencies of various States"
   ]
  },
  {
   "cell_type": "code",
   "execution_count": null,
   "metadata": {
    "scrolled": true
   },
   "outputs": [],
   "source": [
    "l2 = list(table(Clus1_km4$State),table(Clus2_km4$State),table(Clus3_km4$State),table(Clus4_km4$State))"
   ]
  },
  {
   "cell_type": "code",
   "execution_count": null,
   "metadata": {
    "scrolled": true
   },
   "outputs": [],
   "source": [
    "Assam <- as.vector(sapply(l2, function(x) x[1]))\n",
    "Bihar <- as.vector(sapply(l2, function(x) x[2]))\n",
    "Chhattisgarh <- as.vector(sapply(l2, function(x) x[3]))\n",
    "Jharkhand <- as.vector(sapply(l2, function(x) x[4]))\n",
    "Madhya_Pradesh <- as.vector(sapply(l2, function(x) x[5]))\n",
    "Odisha <- as.vector(sapply(l2, function(x) x[6]))\n",
    "Rajasthan <- as.vector(sapply(l2, function(x) x[7]))\n",
    "Uttar_Pradesh <- as.vector(sapply(l2, function(x) x[8]))\n",
    "Uttarakhand <- as.vector(sapply(l2, function(x) x[9]))"
   ]
  },
  {
   "cell_type": "markdown",
   "metadata": {},
   "source": [
    "### General Summary"
   ]
  },
  {
   "cell_type": "code",
   "execution_count": null,
   "metadata": {
    "scrolled": true
   },
   "outputs": [],
   "source": [
    "km_1 <- group_by(soce_4km, ClusterID)"
   ]
  },
  {
   "cell_type": "code",
   "execution_count": null,
   "metadata": {
    "scrolled": true
   },
   "outputs": [],
   "source": [
    "tab_1 <- summarise(km_1, Mean_DR = mean(DR), Mean_NNMR = mean(NNMR), Mean_CSP = mean(CSP), Mean_CL = mean(CL), Mean_CFI = mean(CFI), Mean_IMR = mean(IMR), Mean_SRB = mean(SRB), Mean_U5MR = mean(U5MR), Mean_LR = mean(LR), Mean_TFR = mean(TFR), Mean_SD = mean(SD))"
   ]
  },
  {
   "cell_type": "code",
   "execution_count": null,
   "metadata": {
    "scrolled": true
   },
   "outputs": [],
   "source": [
    "tab_1 <- cbind(tab_1, Assam, Bihar, Chhattisgarh, Jharkhand, Madhya_Pradesh, Odisha, Rajasthan, Uttar_Pradesh, Uttarakhand)"
   ]
  },
  {
   "cell_type": "code",
   "execution_count": null,
   "metadata": {},
   "outputs": [],
   "source": [
    "tab_1"
   ]
  },
  {
   "cell_type": "markdown",
   "metadata": {},
   "source": [
    "# Analysing Clusters (Centers = 5)"
   ]
  },
  {
   "cell_type": "markdown",
   "metadata": {},
   "source": [
    "### Calculating Frequencies of States"
   ]
  },
  {
   "cell_type": "code",
   "execution_count": null,
   "metadata": {},
   "outputs": [],
   "source": [
    "l3 = list(table(Clus1_km5$State),table(Clus2_km5$State),table(Clus3_km5$State),table(Clus4_km5$State), table(Clus5_km5$State))\n"
   ]
  },
  {
   "cell_type": "code",
   "execution_count": null,
   "metadata": {
    "scrolled": true
   },
   "outputs": [],
   "source": [
    "Assam <- as.vector(sapply(l3, function(x) x[1]))\n",
    "Bihar <- as.vector(sapply(l3, function(x) x[2]))\n",
    "Chhattisgarh <- as.vector(sapply(l3, function(x) x[3]))\n",
    "Jharkhand <- as.vector(sapply(l3, function(x) x[4]))\n",
    "Madhya_Pradesh <- as.vector(sapply(l3, function(x) x[5]))\n",
    "Odisha <- as.vector(sapply(l3, function(x) x[6]))\n",
    "Rajasthan <- as.vector(sapply(l3, function(x) x[7]))\n",
    "Uttar_Pradesh <- as.vector(sapply(l3, function(x) x[8]))\n",
    "Uttarakhand <- as.vector(sapply(l3, function(x) x[9]))"
   ]
  },
  {
   "cell_type": "code",
   "execution_count": null,
   "metadata": {
    "scrolled": true
   },
   "outputs": [],
   "source": [
    "km_2 <- group_by(soce_5km, ClusterID)"
   ]
  },
  {
   "cell_type": "markdown",
   "metadata": {},
   "source": [
    "### General Summary"
   ]
  },
  {
   "cell_type": "code",
   "execution_count": null,
   "metadata": {
    "scrolled": true
   },
   "outputs": [],
   "source": [
    "tab_2 <- summarise(km_2, Mean_DR = mean(DR), Mean_NNMR = mean(NNMR), Mean_CSP = mean(CSP), Mean_CL = mean(CL), Mean_CFI = mean(CFI), Mean_IMR = mean(IMR), Mean_SRB = mean(SRB), Mean_U5MR = mean(U5MR), Mean_LR = mean(LR), Mean_TFR = mean(TFR), Mean_SD = mean(SD))"
   ]
  },
  {
   "cell_type": "code",
   "execution_count": null,
   "metadata": {
    "scrolled": true
   },
   "outputs": [],
   "source": [
    "tab_2 <- cbind(tab_2, Assam, Bihar, Chhattisgarh, Jharkhand, Madhya_Pradesh, Odisha, Rajasthan, Uttar_Pradesh, Uttarakhand)"
   ]
  },
  {
   "cell_type": "code",
   "execution_count": null,
   "metadata": {
    "scrolled": true
   },
   "outputs": [],
   "source": [
    "tab_2"
   ]
  },
  {
   "cell_type": "markdown",
   "metadata": {},
   "source": [
    "# Analysing Clusters (centers = 6)"
   ]
  },
  {
   "cell_type": "markdown",
   "metadata": {},
   "source": [
    "### Calculating Frequencies of States"
   ]
  },
  {
   "cell_type": "code",
   "execution_count": null,
   "metadata": {
    "scrolled": true
   },
   "outputs": [],
   "source": [
    "l4 = list(table(Clus1_km6$State),table(Clus2_km6$State),table(Clus3_km6$State),table(Clus4_km6$State), table(Clus5_km6$State), table(Clus6_km6$State))"
   ]
  },
  {
   "cell_type": "code",
   "execution_count": null,
   "metadata": {
    "scrolled": true
   },
   "outputs": [],
   "source": [
    "Assam <- as.vector(sapply(l4, function(x) x[1]))\n",
    "Bihar <- as.vector(sapply(l4, function(x) x[2]))\n",
    "Chhattisgarh <- as.vector(sapply(l4, function(x) x[3]))\n",
    "Jharkhand <- as.vector(sapply(l4, function(x) x[4]))\n",
    "Madhya_Pradesh <- as.vector(sapply(l4, function(x) x[5]))\n",
    "Odisha <- as.vector(sapply(l4, function(x) x[6]))\n",
    "Rajasthan <- as.vector(sapply(l4, function(x) x[7]))\n",
    "Uttar_Pradesh <- as.vector(sapply(l4, function(x) x[8]))\n",
    "Uttarakhand <- as.vector(sapply(l4, function(x) x[9]))"
   ]
  },
  {
   "cell_type": "markdown",
   "metadata": {},
   "source": [
    "### General Summary"
   ]
  },
  {
   "cell_type": "code",
   "execution_count": null,
   "metadata": {
    "scrolled": true
   },
   "outputs": [],
   "source": [
    "km_3 <- group_by(soce_6km, ClusterID)"
   ]
  },
  {
   "cell_type": "code",
   "execution_count": null,
   "metadata": {
    "scrolled": true
   },
   "outputs": [],
   "source": [
    "tab_3 <- summarise(km_3, Mean_DR = mean(DR), Mean_NNMR = mean(NNMR), Mean_CSP = mean(CSP), Mean_CL = mean(CL), Mean_CFI = mean(CFI), Mean_IMR = mean(IMR), Mean_SRB = mean(SRB), Mean_U5MR = mean(U5MR), Mean_LR = mean(LR), Mean_TFR = mean(TFR), Mean_SD = mean(SD))"
   ]
  },
  {
   "cell_type": "code",
   "execution_count": null,
   "metadata": {
    "scrolled": true
   },
   "outputs": [],
   "source": [
    "tab_3 <- cbind(tab_3, Assam, Bihar, Chhattisgarh, Jharkhand, Madhya_Pradesh, Odisha, Rajasthan, Uttar_Pradesh, Uttarakhand)"
   ]
  },
  {
   "cell_type": "code",
   "execution_count": null,
   "metadata": {
    "scrolled": true
   },
   "outputs": [],
   "source": [
    "tab_3"
   ]
  },
  {
   "cell_type": "code",
   "execution_count": null,
   "metadata": {},
   "outputs": [],
   "source": []
  }
 ],
 "metadata": {
  "kernelspec": {
   "display_name": "R",
   "language": "R",
   "name": "ir"
  },
  "language_info": {
   "codemirror_mode": "r",
   "file_extension": ".r",
   "mimetype": "text/x-r-source",
   "name": "R",
   "pygments_lexer": "r",
   "version": "3.6.0"
  }
 },
 "nbformat": 4,
 "nbformat_minor": 2
}
